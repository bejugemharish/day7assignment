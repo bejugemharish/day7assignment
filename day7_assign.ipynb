{
  "nbformat": 4,
  "nbformat_minor": 0,
  "metadata": {
    "colab": {
      "provenance": []
    },
    "kernelspec": {
      "name": "python3",
      "display_name": "Python 3"
    },
    "language_info": {
      "name": "python"
    }
  },
  "cells": [
    {
      "cell_type": "code",
      "execution_count": 1,
      "metadata": {
        "colab": {
          "base_uri": "https://localhost:8080/"
        },
        "id": "uBMtqjz_ZFYe",
        "outputId": "d4cc8967-811e-4a18-ced9-91b1b97adbc6"
      },
      "outputs": [
        {
          "output_type": "stream",
          "name": "stdout",
          "text": [
            "{1: 'a', 2: 'b', 3: 'c', 4: 'd', 5: 'e'}\n"
          ]
        }
      ],
      "source": [
        "A = ['a','b','c','d','e']\n",
        "fun = enumerate(A,1)\n",
        "output_dict = dict(fun)\n",
        "print(output_dict)"
      ]
    }
  ]
}